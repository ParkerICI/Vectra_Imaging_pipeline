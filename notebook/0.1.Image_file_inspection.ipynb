{
 "cells": [
  {
   "cell_type": "markdown",
   "metadata": {},
   "source": [
    " <font size=\"6\">  Image file inspection </font> \n",
    "\n",
    "---"
   ]
  },
  {
   "cell_type": "markdown",
   "metadata": {},
   "source": [
    "In this notebook, we will \n",
    "\n",
    "* check the composition of image files, including unique sample id, image size, the marker in the panel\n",
    "* remove the unwanted images \n",
    "* spot the missing samples\n",
    "* spot the repeated images"
   ]
  },
  {
   "cell_type": "markdown",
   "metadata": {},
   "source": [
    "## Load library"
   ]
  },
  {
   "cell_type": "code",
   "execution_count": 1,
   "metadata": {},
   "outputs": [],
   "source": [
    "import glob\n",
    "import PIL\n",
    "import numpy as np\n",
    "from collections import Counter\n",
    "import pandas as pd\n",
    "from PIL import Image \n",
    "import tifffile"
   ]
  },
  {
   "cell_type": "markdown",
   "metadata": {},
   "source": [
    "## Check image number and image size"
   ]
  },
  {
   "cell_type": "markdown",
   "metadata": {},
   "source": [
    "Load all images from a folder with glob "
   ]
  },
  {
   "cell_type": "code",
   "execution_count": 2,
   "metadata": {},
   "outputs": [],
   "source": [
    "folder_path = '../data/tif/*.tif'\n",
    "file_list = sorted(glob.glob(folder_path))"
   ]
  },
  {
   "cell_type": "markdown",
   "metadata": {},
   "source": [
    "Count the number of different image sizes"
   ]
  },
  {
   "cell_type": "code",
   "execution_count": 3,
   "metadata": {},
   "outputs": [
    {
     "name": "stdout",
     "output_type": "stream",
     "text": [
      "File number:  2\n",
      "There are  2 images of size  [1004 1340] \n",
      "\n"
     ]
    }
   ],
   "source": [
    "print('File number: ',len(file_list))\n",
    "image_size_list = [np.array(Image.open(x).size) for x in file_list]\n",
    "img_size, count = np.unique(image_size_list,return_counts=True)\n",
    "for i in range(int(len(count)/2)):\n",
    "    print('There are ',str(count[2*i+1]), 'images of size ',str(img_size[2*i:2*i+2]),'\\n')"
   ]
  },
  {
   "cell_type": "markdown",
   "metadata": {},
   "source": [
    "## Check image number and size per sample"
   ]
  },
  {
   "cell_type": "code",
   "execution_count": 4,
   "metadata": {},
   "outputs": [
    {
     "name": "stdout",
     "output_type": "stream",
     "text": [
      "Patient number:  2\n"
     ]
    },
    {
     "data": {
      "text/html": [
       "<div>\n",
       "<style scoped>\n",
       "    .dataframe tbody tr th:only-of-type {\n",
       "        vertical-align: middle;\n",
       "    }\n",
       "\n",
       "    .dataframe tbody tr th {\n",
       "        vertical-align: top;\n",
       "    }\n",
       "\n",
       "    .dataframe thead th {\n",
       "        text-align: right;\n",
       "    }\n",
       "</style>\n",
       "<table border=\"1\" class=\"dataframe\">\n",
       "  <thead>\n",
       "    <tr style=\"text-align: right;\">\n",
       "      <th></th>\n",
       "      <th></th>\n",
       "      <th>2</th>\n",
       "    </tr>\n",
       "    <tr>\n",
       "      <th>0</th>\n",
       "      <th>1</th>\n",
       "      <th></th>\n",
       "    </tr>\n",
       "  </thead>\n",
       "  <tbody>\n",
       "    <tr>\n",
       "      <th>Sample1</th>\n",
       "      <th>1340</th>\n",
       "      <td>1</td>\n",
       "    </tr>\n",
       "    <tr>\n",
       "      <th>Sample2</th>\n",
       "      <th>1340</th>\n",
       "      <td>1</td>\n",
       "    </tr>\n",
       "  </tbody>\n",
       "</table>\n",
       "</div>"
      ],
      "text/plain": [
       "              2\n",
       "0       1      \n",
       "Sample1 1340  1\n",
       "Sample2 1340  1"
      ]
     },
     "execution_count": 4,
     "metadata": {},
     "output_type": "execute_result"
    }
   ],
   "source": [
    "## Take sample id from the file name\n",
    "patient_id,total_number_list = np.unique(np.array([x.split('/')[-1].split(' ')[0] for i,x in enumerate(file_list)]),return_counts=True)\n",
    "patient_id_list = np.array([x.split('/')[-1].split(' ')[0] for i,x in enumerate(file_list)])\n",
    "\n",
    "## Check per sample image composition\n",
    "print('Patient number: ', len(patient_id))\n",
    "df = pd.DataFrame([patient_id_list,[x[0] for x in image_size_list], [1]*len(patient_id_list)]).T\n",
    "df.groupby([0,1]).count()"
   ]
  },
  {
   "cell_type": "markdown",
   "metadata": {},
   "source": [
    "## Check the marker in the image"
   ]
  },
  {
   "cell_type": "code",
   "execution_count": 5,
   "metadata": {},
   "outputs": [
    {
     "name": "stdout",
     "output_type": "stream",
     "text": [
      "['chan1', 'chan2', 'chan3', 'chan4', 'chan5', 'chan6', 'chan7']\n"
     ]
    }
   ],
   "source": [
    "marker_list =   ['chan1', 'chan2', 'chan3', 'chan4', 'chan5', 'chan6', 'chan7']  # for real vectra data: [x.description.split('<Name>')[1].split(' ')[0].split('<')[0].split('+')[0] for x in  tifffile.TiffFile(file_list[0]).pages[:-1] ]\n",
    "print(marker_list)"
   ]
  },
  {
   "cell_type": "markdown",
   "metadata": {},
   "source": [
    "## Inconsisent sample (optional)"
   ]
  },
  {
   "cell_type": "markdown",
   "metadata": {},
   "source": [
    "When there are multiple panels, the samples might not be consistent. Here, by providing the golden sample id, we detect the missing sample and extra sample from current panel."
   ]
  },
  {
   "cell_type": "code",
   "execution_count": 6,
   "metadata": {},
   "outputs": [],
   "source": [
    "current_sample = np.unique(df[0])"
   ]
  },
  {
   "cell_type": "markdown",
   "metadata": {},
   "source": [
    "Get the gold standard sample id "
   ]
  },
  {
   "cell_type": "code",
   "execution_count": 7,
   "metadata": {},
   "outputs": [],
   "source": [
    "## Here shows one method that takes the sample id from another panel\n",
    "#first_panel_file_list = sorted(glob.glob('../data/tif/*.tif'))\n",
    "standard_id = ['Sample1', 'Sample2']  #[x.split('/')[-2] for x in first_panel_file_list]"
   ]
  },
  {
   "cell_type": "code",
   "execution_count": 8,
   "metadata": {},
   "outputs": [
    {
     "name": "stdout",
     "output_type": "stream",
     "text": [
      "Extra sample found in this panel:  []\n",
      "Missing sample from this panel:  []\n"
     ]
    }
   ],
   "source": [
    "extra_patients = [x for x in current_sample if x not in standard_id]\n",
    "print('Extra sample found in this panel: ',extra_patients)\n",
    "missing_patients = [x for x in standard_id if x not in current_sample]\n",
    "print('Missing sample from this panel: ',missing_patients)"
   ]
  },
  {
   "cell_type": "markdown",
   "metadata": {},
   "source": [
    "## Move extra files out of the folder (optional)"
   ]
  },
  {
   "cell_type": "code",
   "execution_count": 9,
   "metadata": {},
   "outputs": [],
   "source": [
    "import shutil\n",
    "import os \n",
    "for files in file_list:\n",
    "    if (len([1 for x in extra_patients if (x in files)]) >0):\n",
    "        destination = files.replace('Lung_Panel18_TIF','Lung_Panel18_TIF_extra')\n",
    "        os.makedirs(os.path.dirname(destination), exist_ok=True)\n",
    "        shutil.move(files,destination)\n",
    "        print (files, ' moved to ',destination)\n",
    "        #break"
   ]
  },
  {
   "cell_type": "markdown",
   "metadata": {},
   "source": [
    "## Repeated Image Removal "
   ]
  },
  {
   "cell_type": "markdown",
   "metadata": {},
   "source": [
    "Get the unique id from each file name in the folder and find the ones with repeated scanning"
   ]
  },
  {
   "cell_type": "code",
   "execution_count": 10,
   "metadata": {},
   "outputs": [],
   "source": [
    "## Get the unique id from each file, the method depends on the naming system\n",
    "unique_id = [(x.split('/')[-1].split(' ')[0] + '-'+x.split('/')[-1].split('[')[-1].split(']')[0]) for x in file_list]"
   ]
  },
  {
   "cell_type": "code",
   "execution_count": 11,
   "metadata": {},
   "outputs": [
    {
     "name": "stdout",
     "output_type": "stream",
     "text": [
      "Repeated id:  set()\n"
     ]
    }
   ],
   "source": [
    "print('Repeated id: ',set([x for x in unique_id if unique_id.count(x) > 1]))"
   ]
  },
  {
   "cell_type": "markdown",
   "metadata": {},
   "source": [
    "## Inspection after correction"
   ]
  },
  {
   "cell_type": "code",
   "execution_count": 12,
   "metadata": {},
   "outputs": [],
   "source": [
    "file_list = sorted(glob.glob(folder_path))"
   ]
  },
  {
   "cell_type": "code",
   "execution_count": 13,
   "metadata": {},
   "outputs": [
    {
     "name": "stdout",
     "output_type": "stream",
     "text": [
      "Extra sample found in this panel:  []\n",
      "Missing sample from this panel:  []\n"
     ]
    }
   ],
   "source": [
    "extra_patients = [x for x in current_sample if x not in standard_id]\n",
    "print('Extra sample found in this panel: ',extra_patients)\n",
    "missing_patients = [x for x in standard_id if x not in current_sample]\n",
    "print('Missing sample from this panel: ',missing_patients)"
   ]
  },
  {
   "cell_type": "code",
   "execution_count": 14,
   "metadata": {},
   "outputs": [
    {
     "name": "stdout",
     "output_type": "stream",
     "text": [
      "File number:  2\n",
      "There are  2 images of size  [1004 1340] \n",
      "\n",
      "Patient number:  2\n"
     ]
    },
    {
     "data": {
      "text/html": [
       "<div>\n",
       "<style scoped>\n",
       "    .dataframe tbody tr th:only-of-type {\n",
       "        vertical-align: middle;\n",
       "    }\n",
       "\n",
       "    .dataframe tbody tr th {\n",
       "        vertical-align: top;\n",
       "    }\n",
       "\n",
       "    .dataframe thead th {\n",
       "        text-align: right;\n",
       "    }\n",
       "</style>\n",
       "<table border=\"1\" class=\"dataframe\">\n",
       "  <thead>\n",
       "    <tr style=\"text-align: right;\">\n",
       "      <th></th>\n",
       "      <th></th>\n",
       "      <th>2</th>\n",
       "    </tr>\n",
       "    <tr>\n",
       "      <th>0</th>\n",
       "      <th>1</th>\n",
       "      <th></th>\n",
       "    </tr>\n",
       "  </thead>\n",
       "  <tbody>\n",
       "    <tr>\n",
       "      <th>Sample1</th>\n",
       "      <th>1340</th>\n",
       "      <td>1</td>\n",
       "    </tr>\n",
       "    <tr>\n",
       "      <th>Sample2</th>\n",
       "      <th>1340</th>\n",
       "      <td>1</td>\n",
       "    </tr>\n",
       "  </tbody>\n",
       "</table>\n",
       "</div>"
      ],
      "text/plain": [
       "              2\n",
       "0       1      \n",
       "Sample1 1340  1\n",
       "Sample2 1340  1"
      ]
     },
     "execution_count": 14,
     "metadata": {},
     "output_type": "execute_result"
    }
   ],
   "source": [
    "print('File number: ',len(file_list))\n",
    "image_size_list = [np.array(Image.open(x).size) for x in file_list]\n",
    "img_size, count = np.unique(image_size_list,return_counts=True)\n",
    "for i in range(int(len(count)/2)):\n",
    "    print('There are ',str(count[2*i+1]), 'images of size ',str(img_size[2*i:2*i+2]),'\\n')\n",
    "    \n",
    "## Take sample id from the file name\n",
    "patient_id,total_number_list = np.unique(np.array([x.split('/')[-1].split(' ')[0] for i,x in enumerate(file_list)]),return_counts=True)\n",
    "patient_id_list = np.array([x.split('/')[-1].split(' ')[0] for i,x in enumerate(file_list)])\n",
    "\n",
    "## Check per sample image composition\n",
    "print('Patient number: ', len(patient_id))\n",
    "df = pd.DataFrame([patient_id_list,[x[0] for x in image_size_list], [1]*len(patient_id_list)]).T\n",
    "df.groupby([0,1]).count()"
   ]
  },
  {
   "cell_type": "code",
   "execution_count": null,
   "metadata": {},
   "outputs": [],
   "source": []
  }
 ],
 "metadata": {
  "kernelspec": {
   "display_name": "davinci",
   "language": "python",
   "name": "davinci"
  },
  "language_info": {
   "codemirror_mode": {
    "name": "ipython",
    "version": 3
   },
   "file_extension": ".py",
   "mimetype": "text/x-python",
   "name": "python",
   "nbconvert_exporter": "python",
   "pygments_lexer": "ipython3",
   "version": "3.7.5"
  },
  "toc-autonumbering": true
 },
 "nbformat": 4,
 "nbformat_minor": 4
}
